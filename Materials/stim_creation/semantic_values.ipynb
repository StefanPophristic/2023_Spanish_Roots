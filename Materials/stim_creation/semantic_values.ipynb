{
 "cells": [
  {
   "cell_type": "markdown",
   "id": "c50dca4b",
   "metadata": {},
   "source": [
    "Stefan Pophristic\n",
    "\n",
    "April 4th, 2024\n",
    "\n",
    "2023_Spanish_Roots\n",
    "\n",
    "\n",
    "This script gets the semantic relatedness values for the stimuli for the experiment.\n",
    "\n",
    "There are larger .vec files that you should play around with. "
   ]
  },
  {
   "cell_type": "code",
   "execution_count": 1,
   "id": "c980e3bb",
   "metadata": {},
   "outputs": [],
   "source": [
    "import gensim\n",
    "from gensim.models.keyedvectors import KeyedVectors\n",
    "import os\n",
    "import numpy as np\n",
    "import pandas as pd\n",
    "import matplotlib"
   ]
  },
  {
   "cell_type": "code",
   "execution_count": 2,
   "id": "b3f407ec",
   "metadata": {},
   "outputs": [],
   "source": [
    "# dir = '/Volumes/server/MORPHLAB/Users/Stefan/Spanish_Paradigms/Analysis/2023_Spanish_Nouns/'\n",
    "dir = '/Users/stefan/Desktop/repos/2023_Spanish_Roots/Materials/'\n",
    "os.chdir(dir)\n",
    "wordvectors_file_vec = 'embeddings-l-model.vec' #input name of new vector\n",
    "cantidad = 100000\n",
    "wordvectors = KeyedVectors.load_word2vec_format(wordvectors_file_vec, limit=cantidad)\n",
    "\n"
   ]
  },
  {
   "cell_type": "code",
   "execution_count": 15,
   "id": "5811191c",
   "metadata": {},
   "outputs": [],
   "source": [
    "# commented out stimuli do not appear in the wordvectors and therefore throw an error \n",
    "\n",
    "allStimLemma = ['band',\n",
    "'baz',\n",
    "'braz',\n",
    "'caball',\n",
    "'cañ',\n",
    "'cep',\n",
    "'cigarr',\n",
    "'cint',\n",
    "'coc',\n",
    "# 'cochinill',\n",
    "'corre',\n",
    "'cost',\n",
    "'cot',\n",
    "# 'cuadern',\n",
    "'cub',\n",
    "'cuenc',\n",
    "'faun',\n",
    "'fet',\n",
    "'foc',\n",
    "'fond',\n",
    "'gimnasi',\n",
    "'goter',\n",
    "'gram',\n",
    "'libret',\n",
    "'lom',\n",
    "'mod',\n",
    "'mot',\n",
    "# 'perrer',\n",
    "'plat',\n",
    "'plaz',\n",
    "'puert',\n",
    "'pulp',\n",
    "'pupil',\n",
    "'ram',\n",
    "'rodill',\n",
    "'rótul',\n",
    "'rumb',\n",
    "'sátir',\n",
    "'set',\n",
    "'sigl',\n",
    "'solan',\n",
    "'tin',\n",
    "'torment',\n",
    "'tromp',\n",
    "'tub',\n",
    "'zapat']"
   ]
  },
  {
   "cell_type": "code",
   "execution_count": 17,
   "id": "52bf13cc",
   "metadata": {},
   "outputs": [
    {
     "name": "stdout",
     "output_type": "stream",
     "text": [
      "0.23862451\n",
      "0.11544689\n",
      "0.2713791\n",
      "0.31935975\n",
      "0.36228046\n",
      "0.06575924\n",
      "0.32360625\n",
      "0.34784973\n",
      "0.4030413\n",
      "0.18748312\n",
      "0.14171462\n",
      "0.2975051\n",
      "0.14113659\n",
      "0.29031932\n",
      "0.3090693\n",
      "0.20458138\n",
      "0.10515539\n",
      "0.16088906\n",
      "0.5641389\n",
      "0.4400988\n",
      "0.1424802\n",
      "0.27332747\n",
      "0.37757206\n",
      "0.10793372\n",
      "0.20110899\n",
      "0.25358054\n",
      "0.10280457\n",
      "0.22565712\n",
      "0.3011068\n",
      "0.37013564\n",
      "0.406857\n",
      "0.4216293\n",
      "0.17989552\n",
      "0.2299296\n",
      "0.41565156\n",
      "0.3964364\n",
      "0.1515376\n",
      "0.43006045\n",
      "0.3517097\n",
      "0.2678219\n",
      "0.40073633\n",
      "0.31044817\n",
      "0.14770105\n"
     ]
    }
   ],
   "source": [
    "for w in allStimLemma:\n",
    "    word_a = w + \"a\"\n",
    "    word_o = w + \"o\"\n",
    "#     print(word_a + \" \" + word_o + \":\")\n",
    "    print(wordvectors.similarity(word_a, word_o))"
   ]
  }
 ],
 "metadata": {
  "kernelspec": {
   "display_name": "Python 3 (ipykernel)",
   "language": "python",
   "name": "python3"
  },
  "language_info": {
   "codemirror_mode": {
    "name": "ipython",
    "version": 3
   },
   "file_extension": ".py",
   "mimetype": "text/x-python",
   "name": "python",
   "nbconvert_exporter": "python",
   "pygments_lexer": "ipython3",
   "version": "3.9.12"
  }
 },
 "nbformat": 4,
 "nbformat_minor": 5
}
