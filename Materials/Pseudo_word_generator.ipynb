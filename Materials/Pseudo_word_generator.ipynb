{
 "cells": [
  {
   "cell_type": "code",
   "execution_count": 1,
   "id": "d434ed29",
   "metadata": {},
   "outputs": [],
   "source": [
    "import wuggy"
   ]
  },
  {
   "cell_type": "code",
   "execution_count": 2,
   "id": "fde9d703",
   "metadata": {},
   "outputs": [],
   "source": [
    "from wuggy import WuggyGenerator\n",
    "g = WuggyGenerator()\n",
    "g.load(\"orthographic_spanish\")"
   ]
  },
  {
   "cell_type": "code",
   "execution_count": 7,
   "id": "a8cf982d",
   "metadata": {},
   "outputs": [
    {
     "name": "stdout",
     "output_type": "stream",
     "text": [
      "sasa\n",
      "bana\n",
      "baga\n",
      "fasa\n",
      "fala\n",
      "faba\n",
      "fapa\n",
      "faga\n",
      "fada\n",
      "fana\n",
      "sada\n",
      "sara\n",
      "saba\n",
      "saja\n",
      "sapa\n",
      "lala\n",
      "lada\n",
      "lara\n",
      "laga\n",
      "laja\n",
      "laba\n",
      "bara\n",
      "bada\n",
      "bapa\n",
      "taca\n",
      "tada\n",
      "taja\n",
      "tana\n",
      "taga\n",
      "fafa\n",
      "\n",
      "\n"
     ]
    }
   ],
   "source": [
    "for x in ['rama']:\n",
    "    for match in g.generate_classic([x],\n",
    "                              ncandidates_per_sequence = 30,\n",
    "                              max_search_time_per_sequence = 25):\n",
    "        print(match['pseudoword'])\n",
    "    print('\\n')"
   ]
  },
  {
   "cell_type": "code",
   "execution_count": 7,
   "id": "8e67f9bc",
   "metadata": {},
   "outputs": [
    {
     "name": "stdout",
     "output_type": "stream",
     "text": [
      "Input Words: ['caña']\n",
      "Generated Pseudowords with Last Two Matching:\n"
     ]
    }
   ],
   "source": [
    "from wuggy import WuggyGenerator\n",
    "\n",
    "# Initialize the WUGGY generator\n",
    "generator = WuggyGenerator()\n",
    "generator.load(\"orthographic_spanish\")\n",
    "\n",
    "def generate_pseudo_words_with_last_two(input_words, num_candidates=30, max_search_time=100):\n",
    "    pseudo_words = []\n",
    "    for input_word in input_words:\n",
    "        if len(input_word) < 2:\n",
    "            raise ValueError(\"Input word must be at least two characters long\")\n",
    "        \n",
    "        last_two_letters = input_word[-2:]\n",
    "        \n",
    "        for match in generator.generate_classic(\n",
    "            [input_word],\n",
    "            ncandidates_per_sequence=num_candidates,\n",
    "            max_search_time_per_sequence=max_search_time\n",
    "        ):\n",
    "            pseudo_word = match['pseudoword']\n",
    "            if pseudo_word[-2:] == last_two_letters:\n",
    "                pseudo_words.append(pseudo_word)\n",
    "    \n",
    "    return pseudo_words\n",
    "\n",
    "# Example usage\n",
    "input_words = [\"caña\"]\n",
    "pseudo_words = generate_pseudo_words_with_last_two(input_words)\n",
    "print(\"Input Words:\", input_words)\n",
    "print(\"Generated Pseudowords with Last Two Matching:\")\n",
    "for idx, word in enumerate(pseudo_words, start=1):\n",
    "    print(f\"{idx}. {word}\")"
   ]
  }
 ],
 "metadata": {
  "kernelspec": {
   "display_name": "Python 3 (ipykernel)",
   "language": "python",
   "name": "python3"
  },
  "language_info": {
   "codemirror_mode": {
    "name": "ipython",
    "version": 3
   },
   "file_extension": ".py",
   "mimetype": "text/x-python",
   "name": "python",
   "nbconvert_exporter": "python",
   "pygments_lexer": "ipython3",
   "version": "3.9.12"
  }
 },
 "nbformat": 4,
 "nbformat_minor": 5
}
